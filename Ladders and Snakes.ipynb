{
 "cells": [
  {
   "cell_type": "markdown",
   "id": "63747ac0",
   "metadata": {},
   "source": [
    "## Imports"
   ]
  },
  {
   "cell_type": "code",
   "execution_count": 78,
   "id": "70c2615d",
   "metadata": {},
   "outputs": [],
   "source": [
    "import random\n",
    "import pandas as pd\n",
    "import numpy as np\n",
    "import seaborn as sns\n",
    "import matplotlib.pyplot as plt\n",
    "\n",
    "import warnings\n",
    "warnings.filterwarnings(\"ignore\")\n",
    "\n",
    "sns.set_style(\"whitegrid\")"
   ]
  },
  {
   "cell_type": "markdown",
   "id": "6a13ce6d",
   "metadata": {},
   "source": [
    "## Inital simulations configs"
   ]
  },
  {
   "cell_type": "code",
   "execution_count": 2,
   "id": "0775c901",
   "metadata": {},
   "outputs": [],
   "source": [
    "# Mapping Ladders and Snakes\n",
    "ladder_heads = {'3': '16', '5': '7', '15': '25', '18': '20', '21': '32'}\n",
    "snake_heads = {'12': '2', '14': '11', '17': '4', '31': '19', '35': '22'}\n",
    "\n",
    "# Define number of simulations\n",
    "num_games = 10000"
   ]
  },
  {
   "cell_type": "markdown",
   "id": "04c7776b",
   "metadata": {},
   "source": [
    "## Case 1"
   ]
  },
  {
   "cell_type": "code",
   "execution_count": 79,
   "id": "420321cf",
   "metadata": {},
   "outputs": [],
   "source": [
    "# The goal of this case is to understand the initial odds of a traditional game of snakes and ladders \n",
    "# and get some statistical results about this initial scenario."
   ]
  },
  {
   "cell_type": "code",
   "execution_count": 4,
   "id": "4977f0c7",
   "metadata": {},
   "outputs": [],
   "source": [
    "def play_game():\n",
    "    player1_position = 1\n",
    "    player2_position = 1\n",
    "    \n",
    "    turns = 0\n",
    "    count_ladders_p1 = 0\n",
    "    count_ladders_p2 = 0\n",
    "    count_snakes_p1 = 0\n",
    "    count_snakes_p2 = 0\n",
    "    \n",
    "    while player1_position < 36 and player2_position < 36:\n",
    "        # Player 1's turn\n",
    "        roll = random.randint(1, 6)\n",
    "        player1_position += roll\n",
    "        if str(player1_position) in ladder_heads:\n",
    "            count_ladders_p1+=1\n",
    "            player1_position = int(ladder_heads[str(player1_position)])\n",
    "            \n",
    "        elif str(player1_position) in snake_heads:\n",
    "            count_snakes_p1+=1\n",
    "            player1_position = int(snake_heads[str(player1_position)])        \n",
    "\n",
    "        if player1_position < 36:\n",
    "            # Player 2's turn\n",
    "            roll = random.randint(1, 6)\n",
    "            player2_position += roll\n",
    "            if str(player2_position) in ladder_heads:\n",
    "                count_ladders_p2+=1\n",
    "                player2_position = int(ladder_heads[str(player2_position)])\n",
    "                \n",
    "            elif str(player2_position) in snake_heads:\n",
    "                count_snakes_p2+=1\n",
    "                player2_position = int(snake_heads[str(player2_position)])\n",
    "        \n",
    "        turns+=1\n",
    "        \n",
    "    info_dict = {\n",
    "        'turns':turns,\n",
    "        'ladders_p1': count_ladders_p1,\n",
    "        'ladders_p2': count_ladders_p2,\n",
    "        'snakes_p1': count_snakes_p1,\n",
    "        'snakes_p2': count_snakes_p2,\n",
    "        'final_p1': player1_position,\n",
    "        'final_p2': player2_position\n",
    "    }\n",
    "    return info_dict"
   ]
  },
  {
   "cell_type": "markdown",
   "id": "25b7fa98",
   "metadata": {},
   "source": [
    "### Game Implementation - Case 1"
   ]
  },
  {
   "cell_type": "markdown",
   "id": "b888935f",
   "metadata": {},
   "source": [
    "### Simulation - Case 1"
   ]
  },
  {
   "cell_type": "code",
   "execution_count": 80,
   "id": "ac1d3029",
   "metadata": {},
   "outputs": [],
   "source": [
    "# Generate 10000 simulations for the traditional implementation of snakes and ladders and get the following information:\n",
    "\n",
    "# * Number of turns in simulation\n",
    "# * Number of ladders taken by each player\n",
    "# * Number of snakes landed by each player\n",
    "# * Final position of each player"
   ]
  },
  {
   "cell_type": "code",
   "execution_count": 5,
   "id": "7d1a23a8",
   "metadata": {},
   "outputs": [],
   "source": [
    "case1 = []\n",
    "for _ in range(num_games):\n",
    "    case1.append(play_game())\n",
    "    \n",
    "case1_stats = pd.DataFrame(case1)\n",
    "case1_stats['round'] = np.arange(1,10001)\n",
    "case1_stats['win_p1'] = case1_stats['final_p1'] >= 36\n",
    "\n",
    "case1_stats['final_ladders'] = case1_stats['ladders_p1'] + case1_stats['ladders_p2']\n",
    "case1_stats['final_snakes'] = case1_stats['snakes_p1'] + case1_stats['snakes_p2']\n",
    "\n",
    "case1_stats = case1_stats[['round','turns', 'ladders_p1', 'ladders_p2', 'snakes_p1', \n",
    "                           'snakes_p2','final_ladders','final_snakes','final_p1', 'final_p2','win_p1']]\n",
    "\n"
   ]
  },
  {
   "cell_type": "markdown",
   "id": "c7eafe71",
   "metadata": {},
   "source": [
    "### General Statistics for simulations"
   ]
  },
  {
   "cell_type": "markdown",
   "id": "51f72bb9",
   "metadata": {},
   "source": [
    "#### Which player has the higher probability of winning based on the result?"
   ]
  },
  {
   "cell_type": "code",
   "execution_count": 6,
   "id": "8bcd6928",
   "metadata": {},
   "outputs": [
    {
     "name": "stdout",
     "output_type": "stream",
     "text": [
      "Probability that player 1 wins: 52.88%\n",
      "Probability that player 2 wins: 47.12%\n"
     ]
    }
   ],
   "source": [
    "probability_player1_wins = sum(case1_stats['win_p1']) / num_games\n",
    "print(f\"Probability that player 1 wins: {probability_player1_wins:.2%}\")\n",
    "print(f\"Probability that player 2 wins: {1 - probability_player1_wins:.2%}\")"
   ]
  },
  {
   "cell_type": "code",
   "execution_count": 16,
   "id": "dd879ea0",
   "metadata": {},
   "outputs": [
    {
     "data": {
      "image/png": "[encoded data removed]",
      "text/plain": [
       "<Figure size 640x480 with 1 Axes>"
      ]
     },
     "metadata": {},
     "output_type": "display_data"
    }
   ],
   "source": [
    "victory_p1 = case1_stats.groupby(['win_p1'],as_index = False)['round'].count()\n",
    "\n",
    "fig = sns.barplot(y = victory_p1['round'], x = victory_p1['win_p1'])\n",
    "fig.set(xlabel =\"Winnings\", ylabel = \"Quantity of games\", title ='Victory Player 1')\n",
    "plt.subplots_adjust(hspace = 0.8)\n",
    "\n",
    "for i in fig.containers:\n",
    "    fig.bar_label(i,)"
   ]
  },
  {
   "cell_type": "markdown",
   "id": "bb5a8a92",
   "metadata": {},
   "source": [
    "#### Statistical Analysis"
   ]
  },
  {
   "cell_type": "code",
   "execution_count": 17,
   "id": "66806aaf",
   "metadata": {},
   "outputs": [
    {
     "data": {
      "text/plain": [
       "count    10000.000000\n",
       "mean         9.833700\n",
       "std          4.082611\n",
       "min          3.000000\n",
       "25%          7.000000\n",
       "50%          9.000000\n",
       "75%         12.000000\n",
       "max         37.000000\n",
       "Name: turns, dtype: float64"
      ]
     },
     "execution_count": 17,
     "metadata": {},
     "output_type": "execute_result"
    }
   ],
   "source": [
    "# Average Rounds\n",
    "count = case1_stats.groupby(['turns'],as_index=False)['round'].count().rename(columns = {\n",
    "    'round':'games'\n",
    "})\n",
    "case1_stats['turns'].describe()"
   ]
  },
  {
   "cell_type": "code",
   "execution_count": 18,
   "id": "d8a719da",
   "metadata": {},
   "outputs": [
    {
     "data": {
      "image/png": "[encoded data removed]",
      "text/plain": [
       "<Figure size 640x480 with 1 Axes>"
      ]
     },
     "metadata": {},
     "output_type": "display_data"
    }
   ],
   "source": [
    "fig = sns.barplot(y = count['games'], x = count['turns'])\n",
    "fig.set(xlabel =\"Number of rounds\", ylabel = \"Quantity of games\", title ='Length of games')\n",
    "plt.subplots_adjust(hspace = 1.2)"
   ]
  },
  {
   "cell_type": "markdown",
   "id": "31b668ab",
   "metadata": {},
   "source": [
    "#### Average Snakes and Ladders per player"
   ]
  },
  {
   "cell_type": "code",
   "execution_count": 21,
   "id": "199b5a61",
   "metadata": {},
   "outputs": [
    {
     "data": {
      "text/plain": [
       "count    10000.000000\n",
       "mean         1.273400\n",
       "std          0.826874\n",
       "min          0.000000\n",
       "25%          1.000000\n",
       "50%          1.000000\n",
       "75%          2.000000\n",
       "max          8.000000\n",
       "Name: ladders_p1, dtype: float64"
      ]
     },
     "execution_count": 21,
     "metadata": {},
     "output_type": "execute_result"
    }
   ],
   "source": [
    "case1_stats['ladders_p1'].describe()"
   ]
  },
  {
   "cell_type": "code",
   "execution_count": 22,
   "id": "34f9e885",
   "metadata": {},
   "outputs": [
    {
     "data": {
      "text/plain": [
       "count    10000.00000\n",
       "mean         1.22700\n",
       "std          0.82906\n",
       "min          0.00000\n",
       "25%          1.00000\n",
       "50%          1.00000\n",
       "75%          2.00000\n",
       "max          5.00000\n",
       "Name: ladders_p2, dtype: float64"
      ]
     },
     "execution_count": 22,
     "metadata": {},
     "output_type": "execute_result"
    }
   ],
   "source": [
    "case1_stats['ladders_p2'].describe()"
   ]
  },
  {
   "cell_type": "code",
   "execution_count": 23,
   "id": "8420e0a0",
   "metadata": {},
   "outputs": [
    {
     "data": {
      "text/plain": [
       "count    10000.000000\n",
       "mean         1.595200\n",
       "std          1.491898\n",
       "min          0.000000\n",
       "25%          0.000000\n",
       "50%          1.000000\n",
       "75%          2.000000\n",
       "max         12.000000\n",
       "Name: snakes_p1, dtype: float64"
      ]
     },
     "execution_count": 23,
     "metadata": {},
     "output_type": "execute_result"
    }
   ],
   "source": [
    "case1_stats['snakes_p1'].describe()"
   ]
  },
  {
   "cell_type": "code",
   "execution_count": 24,
   "id": "5300c246",
   "metadata": {},
   "outputs": [
    {
     "data": {
      "text/plain": [
       "count    10000.000000\n",
       "mean         1.506100\n",
       "std          1.454158\n",
       "min          0.000000\n",
       "25%          0.000000\n",
       "50%          1.000000\n",
       "75%          2.000000\n",
       "max         10.000000\n",
       "Name: snakes_p2, dtype: float64"
      ]
     },
     "execution_count": 24,
     "metadata": {},
     "output_type": "execute_result"
    }
   ],
   "source": [
    "case1_stats['snakes_p2'].describe()"
   ]
  },
  {
   "cell_type": "code",
   "execution_count": 25,
   "id": "584bb630",
   "metadata": {},
   "outputs": [
    {
     "data": {
      "image/png": "[encoded data removed]",
      "text/plain": [
       "<Figure size 640x480 with 1 Axes>"
      ]
     },
     "metadata": {},
     "output_type": "display_data"
    }
   ],
   "source": [
    "# Game average ladders and snakes\n",
    "ladders = case1_stats[['round','final_ladders']].rename(columns = {\n",
    "    'final_ladders':'count'\n",
    "})\n",
    "ladders['type'] = 'ladders'\n",
    "\n",
    "snakes = case1_stats[['round','final_snakes']].rename(columns = {\n",
    "    'final_snakes':'count'\n",
    "})\n",
    "snakes['type'] = 'snakes'\n",
    "\n",
    "ladders_snakes = pd.concat([ladders,snakes])\n",
    "\n",
    "fig = sns.boxplot(data=ladders_snakes, x = 'type', y ='count',\n",
    "                 showmeans=True,\n",
    "                meanprops={'marker':'o',\n",
    "                           'markerfacecolor':'white', \n",
    "                           'markeredgecolor':'black',\n",
    "                           'markersize':'5'})\n",
    "fig.set(xlabel =\"Type of shortcut\", ylabel = \"Quantity taken\", title ='Snakes and Ladders taken')\n",
    "\n",
    "plt.subplots_adjust(hspace = 1.2)"
   ]
  },
  {
   "cell_type": "code",
   "execution_count": 26,
   "id": "d3e9b726",
   "metadata": {},
   "outputs": [
    {
     "data": {
      "text/plain": [
       "count    10000.000000\n",
       "mean         3.101300\n",
       "std          2.549684\n",
       "min          0.000000\n",
       "25%          1.000000\n",
       "50%          3.000000\n",
       "75%          4.000000\n",
       "max         21.000000\n",
       "Name: final_snakes, dtype: float64"
      ]
     },
     "execution_count": 26,
     "metadata": {},
     "output_type": "execute_result"
    }
   ],
   "source": [
    "case1_stats['final_snakes'].describe()"
   ]
  },
  {
   "cell_type": "code",
   "execution_count": 27,
   "id": "406a2adf",
   "metadata": {},
   "outputs": [
    {
     "data": {
      "text/plain": [
       "count    10000.000000\n",
       "mean         2.500400\n",
       "std          1.123444\n",
       "min          0.000000\n",
       "25%          2.000000\n",
       "50%          2.000000\n",
       "75%          3.000000\n",
       "max          8.000000\n",
       "Name: final_ladders, dtype: float64"
      ]
     },
     "execution_count": 27,
     "metadata": {},
     "output_type": "execute_result"
    }
   ],
   "source": [
    "case1_stats['final_ladders'].describe()"
   ]
  },
  {
   "cell_type": "markdown",
   "id": "fbc64d58",
   "metadata": {},
   "source": [
    "#### Who takes more ladders always win?"
   ]
  },
  {
   "cell_type": "code",
   "execution_count": 28,
   "id": "d98e7ac8",
   "metadata": {},
   "outputs": [
    {
     "name": "stderr",
     "output_type": "stream",
     "text": [
      "C:\\Users\\vinic\\AppData\\Local\\Temp\\ipykernel_13468\\2841488366.py:3: SettingWithCopyWarning: \n",
      "A value is trying to be set on a copy of a slice from a DataFrame.\n",
      "Try using .loc[row_indexer,col_indexer] = value instead\n",
      "\n",
      "See the caveats in the documentation: https://pandas.pydata.org/pandas-docs/stable/user_guide/indexing.html#returning-a-view-versus-a-copy\n",
      "  stats_ladders['more_ladders_p1'] = stats_ladders['ladders_p1'] > stats_ladders['ladders_p2']\n"
     ]
    },
    {
     "data": {
      "text/html": [
       "<div>\n",
       "<style scoped>\n",
       "    .dataframe tbody tr th:only-of-type {\n",
       "        vertical-align: middle;\n",
       "    }\n",
       "\n",
       "    .dataframe tbody tr th {\n",
       "        vertical-align: top;\n",
       "    }\n",
       "\n",
       "    .dataframe thead th {\n",
       "        text-align: right;\n",
       "    }\n",
       "</style>\n",
       "<table border=\"1\" class=\"dataframe\">\n",
       "  <thead>\n",
       "    <tr style=\"text-align: right;\">\n",
       "      <th></th>\n",
       "      <th>win_p1</th>\n",
       "      <th>more_ladders_p1</th>\n",
       "      <th>ladders_p1</th>\n",
       "    </tr>\n",
       "  </thead>\n",
       "  <tbody>\n",
       "    <tr>\n",
       "      <th>0</th>\n",
       "      <td>False</td>\n",
       "      <td>False</td>\n",
       "      <td>3690</td>\n",
       "    </tr>\n",
       "    <tr>\n",
       "      <th>1</th>\n",
       "      <td>False</td>\n",
       "      <td>True</td>\n",
       "      <td>1022</td>\n",
       "    </tr>\n",
       "    <tr>\n",
       "      <th>2</th>\n",
       "      <td>True</td>\n",
       "      <td>False</td>\n",
       "      <td>2787</td>\n",
       "    </tr>\n",
       "    <tr>\n",
       "      <th>3</th>\n",
       "      <td>True</td>\n",
       "      <td>True</td>\n",
       "      <td>2501</td>\n",
       "    </tr>\n",
       "  </tbody>\n",
       "</table>\n",
       "</div>"
      ],
      "text/plain": [
       "   win_p1  more_ladders_p1  ladders_p1\n",
       "0   False            False        3690\n",
       "1   False             True        1022\n",
       "2    True            False        2787\n",
       "3    True             True        2501"
      ]
     },
     "execution_count": 28,
     "metadata": {},
     "output_type": "execute_result"
    }
   ],
   "source": [
    "stats_ladders = case1_stats[['ladders_p1', 'ladders_p2', 'win_p1']]\n",
    "stats_ladders['more_ladders_p1'] = stats_ladders['ladders_p1'] > stats_ladders['ladders_p2']\n",
    "stats_ladders.groupby(['win_p1','more_ladders_p1'],as_index = False)['ladders_p1'].count()"
   ]
  },
  {
   "cell_type": "code",
   "execution_count": 76,
   "id": "8e353ad4",
   "metadata": {},
   "outputs": [
    {
     "data": {
      "text/plain": [
       "0.6191"
      ]
     },
     "execution_count": 76,
     "metadata": {},
     "output_type": "execute_result"
    }
   ],
   "source": [
    "(2501 + 3690)/num_games"
   ]
  },
  {
   "cell_type": "markdown",
   "id": "66ddb7ac",
   "metadata": {},
   "source": [
    "#### Who takes more snakes always lose?"
   ]
  },
  {
   "cell_type": "code",
   "execution_count": 30,
   "id": "62a807bc",
   "metadata": {},
   "outputs": [
    {
     "name": "stderr",
     "output_type": "stream",
     "text": [
      "C:\\Users\\vinic\\AppData\\Local\\Temp\\ipykernel_13468\\4233043137.py:3: SettingWithCopyWarning: \n",
      "A value is trying to be set on a copy of a slice from a DataFrame.\n",
      "Try using .loc[row_indexer,col_indexer] = value instead\n",
      "\n",
      "See the caveats in the documentation: https://pandas.pydata.org/pandas-docs/stable/user_guide/indexing.html#returning-a-view-versus-a-copy\n",
      "  stats_ladders['more_snakes_p1'] = stats_ladders['snakes_p1'] > stats_ladders['snakes_p2']\n"
     ]
    },
    {
     "data": {
      "text/html": [
       "<div>\n",
       "<style scoped>\n",
       "    .dataframe tbody tr th:only-of-type {\n",
       "        vertical-align: middle;\n",
       "    }\n",
       "\n",
       "    .dataframe tbody tr th {\n",
       "        vertical-align: top;\n",
       "    }\n",
       "\n",
       "    .dataframe thead th {\n",
       "        text-align: right;\n",
       "    }\n",
       "</style>\n",
       "<table border=\"1\" class=\"dataframe\">\n",
       "  <thead>\n",
       "    <tr style=\"text-align: right;\">\n",
       "      <th></th>\n",
       "      <th>win_p1</th>\n",
       "      <th>more_snakes_p1</th>\n",
       "      <th>snakes_p1</th>\n",
       "    </tr>\n",
       "  </thead>\n",
       "  <tbody>\n",
       "    <tr>\n",
       "      <th>0</th>\n",
       "      <td>False</td>\n",
       "      <td>False</td>\n",
       "      <td>1598</td>\n",
       "    </tr>\n",
       "    <tr>\n",
       "      <th>1</th>\n",
       "      <td>False</td>\n",
       "      <td>True</td>\n",
       "      <td>3114</td>\n",
       "    </tr>\n",
       "    <tr>\n",
       "      <th>2</th>\n",
       "      <td>True</td>\n",
       "      <td>False</td>\n",
       "      <td>4636</td>\n",
       "    </tr>\n",
       "    <tr>\n",
       "      <th>3</th>\n",
       "      <td>True</td>\n",
       "      <td>True</td>\n",
       "      <td>652</td>\n",
       "    </tr>\n",
       "  </tbody>\n",
       "</table>\n",
       "</div>"
      ],
      "text/plain": [
       "   win_p1  more_snakes_p1  snakes_p1\n",
       "0   False           False       1598\n",
       "1   False            True       3114\n",
       "2    True           False       4636\n",
       "3    True            True        652"
      ]
     },
     "execution_count": 30,
     "metadata": {},
     "output_type": "execute_result"
    }
   ],
   "source": [
    "stats_ladders = case1_stats[['snakes_p1', 'snakes_p2', 'win_p1']]\n",
    "stats_ladders['more_snakes_p1'] = stats_ladders['snakes_p1'] > stats_ladders['snakes_p2']\n",
    "stats_ladders.groupby(['win_p1','more_snakes_p1'],as_index = False)['snakes_p1'].count()"
   ]
  },
  {
   "cell_type": "code",
   "execution_count": 77,
   "id": "93f3f425",
   "metadata": {},
   "outputs": [
    {
     "data": {
      "text/plain": [
       "0.775"
      ]
     },
     "execution_count": 77,
     "metadata": {},
     "output_type": "execute_result"
    }
   ],
   "source": [
    "(4636 + 3114)/num_games"
   ]
  },
  {
   "cell_type": "code",
   "execution_count": 32,
   "id": "e709056b",
   "metadata": {},
   "outputs": [
    {
     "data": {
      "text/plain": [
       "count    10000.000000\n",
       "mean        16.843500\n",
       "std          9.531825\n",
       "min          2.000000\n",
       "25%          9.000000\n",
       "50%         14.000000\n",
       "75%         26.000000\n",
       "max         38.000000\n",
       "Name: diff_final_position, dtype: float64"
      ]
     },
     "execution_count": 32,
     "metadata": {},
     "output_type": "execute_result"
    }
   ],
   "source": [
    "## Diff between final position\n",
    "case1_stats['diff_final_position'] = abs(case1_stats['final_p1'] - case1_stats['final_p2'])\n",
    "case1_stats['diff_final_position'].describe()"
   ]
  },
  {
   "cell_type": "markdown",
   "id": "b54b793c",
   "metadata": {},
   "source": [
    "##  Case 2"
   ]
  },
  {
   "cell_type": "code",
   "execution_count": 81,
   "id": "34ad790c",
   "metadata": {},
   "outputs": [],
   "source": [
    "# We've seen so far:\n",
    "# * The player 1 always has a little advantage\n",
    "# * A game always takes around 9 round\n",
    "# * The average number of ladders taken by player is 1,2. On a game average of 2,5\n",
    "# * The average number of snakes taken by player is 1,5. On a game average of 3\n",
    "# * 60% of winnings comes from games where players hava taken more ladders\n",
    "# * 77% of loses comes from games where players have landed on more snakes than another"
   ]
  },
  {
   "cell_type": "markdown",
   "id": "a7b2c70a",
   "metadata": {},
   "source": [
    "### Game Implementation - Case 2"
   ]
  },
  {
   "cell_type": "code",
   "execution_count": 33,
   "id": "6532a27e",
   "metadata": {},
   "outputs": [],
   "source": [
    "## Insert a little randomness on our code for the ladders\n",
    "def play_game():\n",
    "    player1_position = 1\n",
    "    player2_position = 1\n",
    "    \n",
    "    turns = 0\n",
    "    count_ladders_p1 = 0\n",
    "    count_ladders_p2 = 0\n",
    "    count_snakes_p1 = 0\n",
    "    count_snakes_p2 = 0\n",
    "    \n",
    "    while player1_position < 36 and player2_position < 36:\n",
    "        # Player 1's turn\n",
    "        roll = random.randint(1, 6)\n",
    "        player1_position += roll\n",
    "        if str(player1_position) in ladder_heads:\n",
    "            if random.random() > 0.5:\n",
    "                count_ladders_p1+=1\n",
    "                player1_position = int(ladder_heads[str(player1_position)])\n",
    "            \n",
    "        elif str(player1_position) in snake_heads:\n",
    "            count_snakes_p1+=1\n",
    "            player1_position = int(snake_heads[str(player1_position)])        \n",
    "\n",
    "        if player1_position < 36:\n",
    "            # Player 2's turn\n",
    "            roll = random.randint(1, 6)\n",
    "            player2_position += roll\n",
    "            if str(player2_position) in ladder_heads:\n",
    "                if random.random() > 0.5:\n",
    "                    count_ladders_p2+=1\n",
    "                    player2_position = int(ladder_heads[str(player2_position)])\n",
    "                \n",
    "            elif str(player2_position) in snake_heads:\n",
    "                count_snakes_p2+=1\n",
    "                player2_position = int(snake_heads[str(player2_position)])\n",
    "        \n",
    "        turns+=1\n",
    "        \n",
    "    info_dict = {\n",
    "        'turns':turns,\n",
    "        'ladders_p1': count_ladders_p1,\n",
    "        'ladders_p2': count_ladders_p2,\n",
    "        'snakes_p1': count_snakes_p1,\n",
    "        'snakes_p2': count_snakes_p2,\n",
    "        'final_p1': player1_position,\n",
    "        'final_p2': player2_position\n",
    "    }\n",
    "    return info_dict"
   ]
  },
  {
   "cell_type": "markdown",
   "id": "cee2e8b0",
   "metadata": {},
   "source": [
    "### Simulation - Case 2"
   ]
  },
  {
   "cell_type": "code",
   "execution_count": 34,
   "id": "7fa08080",
   "metadata": {},
   "outputs": [],
   "source": [
    "case2 = []\n",
    "for _ in range(num_games):\n",
    "    case2.append(play_game())\n",
    "    \n",
    "case2_stats = pd.DataFrame(case2)\n",
    "case2_stats['round'] = np.arange(1,10001)\n",
    "case2_stats['win_p1'] = case2_stats['final_p1'] >= 36\n",
    "\n",
    "case2_stats['final_ladders'] = case2_stats['ladders_p1'] + case2_stats['ladders_p2']\n",
    "case2_stats['final_snakes'] = case2_stats['snakes_p1'] + case2_stats['snakes_p2']\n",
    "\n",
    "case2_stats = case2_stats[['round','turns', 'ladders_p1', 'ladders_p2', 'snakes_p1', \n",
    "                           'snakes_p2','final_ladders','final_snakes','final_p1', 'final_p2','win_p1']]\n"
   ]
  },
  {
   "cell_type": "markdown",
   "id": "dda3ce56",
   "metadata": {},
   "source": [
    "### General Statistics for simulations"
   ]
  },
  {
   "cell_type": "code",
   "execution_count": 35,
   "id": "18f2166f",
   "metadata": {},
   "outputs": [
    {
     "name": "stdout",
     "output_type": "stream",
     "text": [
      "Probability that player 1 wins: 52.36%\n",
      "Probability that player 2 wins: 47.64%\n"
     ]
    }
   ],
   "source": [
    "probability_player1_wins = sum(case2_stats['win_p1']) / num_games\n",
    "print(f\"Probability that player 1 wins: {probability_player1_wins:.2%}\")\n",
    "print(f\"Probability that player 2 wins: {1 - probability_player1_wins:.2%}\")"
   ]
  },
  {
   "cell_type": "code",
   "execution_count": 36,
   "id": "21fba228",
   "metadata": {},
   "outputs": [
    {
     "data": {
      "text/plain": [
       "count    10000.000000\n",
       "mean        11.427300\n",
       "std          4.448291\n",
       "min          3.000000\n",
       "25%          8.000000\n",
       "50%         11.000000\n",
       "75%         14.000000\n",
       "max         41.000000\n",
       "Name: turns, dtype: float64"
      ]
     },
     "execution_count": 36,
     "metadata": {},
     "output_type": "execute_result"
    }
   ],
   "source": [
    "# Average Rounds\n",
    "count = case2_stats.groupby(['turns'],as_index=False)['round'].count().rename(columns = {\n",
    "    'round':'games'\n",
    "})\n",
    "case2_stats['turns'].describe()"
   ]
  },
  {
   "cell_type": "code",
   "execution_count": 37,
   "id": "fc2be716",
   "metadata": {},
   "outputs": [
    {
     "data": {
      "image/png": "[encoded data removed]",
      "text/plain": [
       "<Figure size 640x480 with 1 Axes>"
      ]
     },
     "metadata": {},
     "output_type": "display_data"
    }
   ],
   "source": [
    "fig = sns.barplot(y = count['games'], x = count['turns'])\n",
    "fig.set(xlabel =\"Number of rounds\", ylabel = \"Quantity of games\", title ='Length of games')\n",
    "plt.subplots_adjust(hspace = 0.2)"
   ]
  },
  {
   "cell_type": "code",
   "execution_count": 38,
   "id": "e2ac7545",
   "metadata": {},
   "outputs": [
    {
     "data": {
      "text/plain": [
       "(-1.0, 15.0)"
      ]
     },
     "execution_count": 38,
     "metadata": {},
     "output_type": "execute_result"
    },
    {
     "data": {
      "image/png": "[encoded data removed]",
      "text/plain": [
       "<Figure size 640x480 with 1 Axes>"
      ]
     },
     "metadata": {},
     "output_type": "display_data"
    }
   ],
   "source": [
    "# Game average ladders and snakes\n",
    "ladders = case2_stats[['round','final_ladders']].rename(columns = {\n",
    "    'final_ladders':'count'\n",
    "})\n",
    "ladders['type'] = 'ladders'\n",
    "\n",
    "snakes = case2_stats[['round','final_snakes']].rename(columns = {\n",
    "    'final_snakes':'count'\n",
    "})\n",
    "snakes['type'] = 'snakes'\n",
    "\n",
    "ladders_snakes = pd.concat([ladders,snakes])\n",
    "\n",
    "fig = sns.boxplot(data=ladders_snakes, x = 'type', y ='count',\n",
    "                 showmeans=True,\n",
    "                meanprops={'marker':'o',\n",
    "                           'markerfacecolor':'white', \n",
    "                           'markeredgecolor':'black',\n",
    "                           'markersize':'5'})\n",
    "fig.set(xlabel =\"Type of shortcut\", ylabel = \"Quantity taken\", title ='Snakes and Ladders taken')\n",
    "\n",
    "plt.subplots_adjust(hspace = 0.8)\n",
    "fig.set_ylim(-1, 15)"
   ]
  },
  {
   "cell_type": "code",
   "execution_count": 39,
   "id": "a879380f",
   "metadata": {},
   "outputs": [
    {
     "data": {
      "text/plain": [
       "count    10000.000000\n",
       "mean         3.555300\n",
       "std          2.780812\n",
       "min          0.000000\n",
       "25%          2.000000\n",
       "50%          3.000000\n",
       "75%          5.000000\n",
       "max         22.000000\n",
       "Name: final_snakes, dtype: float64"
      ]
     },
     "execution_count": 39,
     "metadata": {},
     "output_type": "execute_result"
    }
   ],
   "source": [
    "case2_stats['final_snakes'].describe()"
   ]
  },
  {
   "cell_type": "code",
   "execution_count": 40,
   "id": "a3f3b83e",
   "metadata": {},
   "outputs": [
    {
     "data": {
      "text/plain": [
       "count    10000.0000\n",
       "mean         1.4680\n",
       "std          0.9741\n",
       "min          0.0000\n",
       "25%          1.0000\n",
       "50%          1.0000\n",
       "75%          2.0000\n",
       "max          6.0000\n",
       "Name: final_ladders, dtype: float64"
      ]
     },
     "execution_count": 40,
     "metadata": {},
     "output_type": "execute_result"
    }
   ],
   "source": [
    "case2_stats['final_ladders'].describe()"
   ]
  },
  {
   "cell_type": "code",
   "execution_count": 82,
   "id": "7f3e845b",
   "metadata": {},
   "outputs": [],
   "source": [
    "# The noise inserted in the number of ladders didnt affect the probability of the player 1 winning\n",
    "# The number of round to conclude the game increases a little by 2 rounds"
   ]
  },
  {
   "cell_type": "markdown",
   "id": "0ec388e3",
   "metadata": {},
   "source": [
    "## Case 3 "
   ]
  },
  {
   "cell_type": "code",
   "execution_count": 83,
   "id": "2d0feaaa",
   "metadata": {},
   "outputs": [],
   "source": [
    "# * Randomness dont change the probability of the first player winning\n",
    "# * What should we do give a fair odd?\n",
    "# What is the best place to start"
   ]
  },
  {
   "cell_type": "markdown",
   "id": "dc07c91f",
   "metadata": {},
   "source": [
    "### Game Implementation - Case 3"
   ]
  },
  {
   "cell_type": "code",
   "execution_count": 42,
   "id": "0351e4dc",
   "metadata": {},
   "outputs": [],
   "source": [
    "def play_game(player2_start):\n",
    "    player1_position = 1\n",
    "    player2_position = player2_start\n",
    "\n",
    "    while player1_position < 36 and player2_position < 36:\n",
    "        # Player 1's turn\n",
    "        roll = random.randint(1, 6)\n",
    "        player1_position += roll\n",
    "        if str(player1_position) in ladder_heads:\n",
    "            player1_position = int(ladder_heads[str(player1_position)])\n",
    "\n",
    "        elif str(player1_position) in snake_heads:\n",
    "            player1_position = int(snake_heads[str(player1_position)])        \n",
    "\n",
    "        if player1_position < 36:\n",
    "            # Player 2's turn\n",
    "            roll = random.randint(1, 6)\n",
    "            player2_position += roll\n",
    "            if str(player2_position) in ladder_heads:\n",
    "                player2_position = int(ladder_heads[str(player2_position)])\n",
    "                \n",
    "            elif str(player2_position) in snake_heads:\n",
    "                player2_position = int(snake_heads[str(player2_position)])\n",
    "\n",
    "    return player1_position >= 36\n"
   ]
  },
  {
   "cell_type": "markdown",
   "id": "269fc708",
   "metadata": {},
   "source": [
    "### Simulations - Case 3"
   ]
  },
  {
   "cell_type": "code",
   "execution_count": 60,
   "id": "6e12fa0d",
   "metadata": {},
   "outputs": [
    {
     "name": "stdout",
     "output_type": "stream",
     "text": [
      "Best starting position for Player 2: 7\n"
     ]
    }
   ],
   "source": [
    "# Simulate games with different starting positions for Player 2\n",
    "num_games = 10000\n",
    "best_start_position = None\n",
    "min_difference = float('inf')\n",
    "\n",
    "df_ranges = pd.DataFrame(columns = ['range','diff'])\n",
    "for start_position in range(2, 20):\n",
    "    player1_wins = sum(play_game(start_position) for _ in range(num_games))\n",
    "    player2_wins = num_games - player1_wins\n",
    "    difference = abs(player1_wins - player2_wins)\n",
    "    df_ranges = df_ranges.append({\n",
    "        'range':start_position,\n",
    "        'diff':difference\n",
    "    },ignore_index=True)\n",
    "    if difference < min_difference:\n",
    "        min_difference = difference\n",
    "        best_start_position = start_position\n",
    "\n",
    "print(f\"Best starting position for Player 2: {best_start_position}\")"
   ]
  },
  {
   "cell_type": "code",
   "execution_count": 62,
   "id": "df9a52a3",
   "metadata": {},
   "outputs": [
    {
     "data": {
      "image/png": "[encoded data removed]",
      "text/plain": [
       "<Figure size 1500x800 with 1 Axes>"
      ]
     },
     "metadata": {},
     "output_type": "display_data"
    }
   ],
   "source": [
    "fig = sns.barplot(y = df_ranges['diff'], x = df_ranges['range'])\n",
    "sns.set(rc={'figure.figsize':(15,8)})\n",
    "fig.set(xlabel =\"Start position\", ylabel = \"Winnings P1 - Winnings P2\", title ='Winnings difference X Start position')\n",
    "plt.subplots_adjust(hspace = 0.8)\n",
    "for i in fig.containers:\n",
    "    fig.bar_label(i,)"
   ]
  },
  {
   "cell_type": "markdown",
   "id": "f23eed44",
   "metadata": {},
   "source": [
    "## Case 4 "
   ]
  },
  {
   "cell_type": "markdown",
   "id": "c1e423fb",
   "metadata": {},
   "source": [
    "### Game implementation - Case 4"
   ]
  },
  {
   "cell_type": "code",
   "execution_count": 63,
   "id": "5b083a9d",
   "metadata": {},
   "outputs": [],
   "source": [
    "## Insert immunity one time to snakes for player 2\n",
    "def play_game():\n",
    "    player_immunity = True\n",
    "    player1_position = 1\n",
    "    player2_position = 1\n",
    "    \n",
    "    turns = 0\n",
    "    count_ladders_p1 = 0\n",
    "    count_ladders_p2 = 0\n",
    "    count_snakes_p1 = 0\n",
    "    count_snakes_p2 = 0\n",
    "    \n",
    "    while player1_position < 36 and player2_position < 36:\n",
    "        # Player 1's turn\n",
    "        roll = random.randint(1, 6)\n",
    "        player1_position += roll\n",
    "        if str(player1_position) in ladder_heads:\n",
    "            count_ladders_p1+=1\n",
    "            player1_position = int(ladder_heads[str(player1_position)])\n",
    "            \n",
    "        elif str(player1_position) in snake_heads:\n",
    "            count_snakes_p1+=1\n",
    "            player1_position = int(snake_heads[str(player1_position)])        \n",
    "\n",
    "        if player1_position < 36:\n",
    "            # Player 2's turn\n",
    "            roll = random.randint(1, 6)\n",
    "            player2_position += roll\n",
    "            if str(player2_position) in ladder_heads:\n",
    "                count_ladders_p2+=1\n",
    "                player2_position = int(ladder_heads[str(player2_position)])\n",
    "            elif str(player2_position) in snake_heads:\n",
    "                if player_immunity:\n",
    "                    count_snakes_p2+=1\n",
    "                    player2_position = int(snake_heads[str(player2_position)])\n",
    "                    player_immunity = False\n",
    "        \n",
    "        turns+=1\n",
    "        \n",
    "    info_dict = {\n",
    "        'turns':turns,\n",
    "        'ladders_p1': count_ladders_p1,\n",
    "        'ladders_p2': count_ladders_p2,\n",
    "        'snakes_p1': count_snakes_p1,\n",
    "        'snakes_p2': count_snakes_p2,\n",
    "        'final_p1': player1_position,\n",
    "        'final_p2': player2_position\n",
    "    }\n",
    "    return info_dict"
   ]
  },
  {
   "cell_type": "markdown",
   "id": "79da7f42",
   "metadata": {},
   "source": [
    "### Simulations - Case 4"
   ]
  },
  {
   "cell_type": "code",
   "execution_count": 64,
   "id": "7ef83582",
   "metadata": {},
   "outputs": [],
   "source": [
    "case4 = []\n",
    "for _ in range(num_games):\n",
    "    case4.append(play_game())\n",
    "    \n",
    "case4_stats = pd.DataFrame(case4)\n",
    "case4_stats['round'] = np.arange(1,10001)\n",
    "case4_stats['win_p1'] = case4_stats['final_p1'] >= 36\n",
    "\n",
    "case4_stats['final_ladders'] = case4_stats['ladders_p1'] + case4_stats['ladders_p2']\n",
    "case4_stats['final_snakes'] = case4_stats['snakes_p1'] + case4_stats['snakes_p2']\n",
    "\n",
    "case4_stats = case4_stats[['round','turns', 'ladders_p1', 'ladders_p2', 'snakes_p1', \n",
    "                           'snakes_p2','final_ladders','final_snakes','final_p1', 'final_p2','win_p1']]"
   ]
  },
  {
   "cell_type": "code",
   "execution_count": 65,
   "id": "f9e291be",
   "metadata": {},
   "outputs": [
    {
     "name": "stdout",
     "output_type": "stream",
     "text": [
      "Probability that player 1 wins: 38.86%\n",
      "Probability that player 2 wins: 61.14%\n"
     ]
    }
   ],
   "source": [
    "probability_player1_wins = sum(case4_stats['win_p1']) / num_games\n",
    "print(f\"Probability that player 1 wins: {probability_player1_wins:.2%}\")\n",
    "print(f\"Probability that player 2 wins: {1 - probability_player1_wins:.2%}\")"
   ]
  },
  {
   "cell_type": "code",
   "execution_count": 75,
   "id": "4351254c",
   "metadata": {},
   "outputs": [
    {
     "data": {
      "image/png": "[encoded data removed]",
      "text/plain": [
       "<Figure size 1500x800 with 1 Axes>"
      ]
     },
     "metadata": {},
     "output_type": "display_data"
    }
   ],
   "source": [
    "victory_p1 = case4_stats.groupby(['win_p1'],as_index = False)['round'].count()\n",
    "fig = sns.barplot(y = victory_p1['round'], x = victory_p1['win_p1'])\n",
    "fig.set(xlabel =\"Winnings\", ylabel = \"Quantity of games\", title ='Victory Player 1')\n",
    "plt.subplots_adjust(hspace = 0.8)\n",
    "\n",
    "for i in fig.containers:\n",
    "    fig.bar_label(i,)"
   ]
  },
  {
   "cell_type": "code",
   "execution_count": 66,
   "id": "9a2c6ace",
   "metadata": {},
   "outputs": [
    {
     "data": {
      "text/plain": [
       "count    10000.000000\n",
       "mean         8.719800\n",
       "std          2.666758\n",
       "min          3.000000\n",
       "25%          7.000000\n",
       "50%          9.000000\n",
       "75%         11.000000\n",
       "max         19.000000\n",
       "Name: turns, dtype: float64"
      ]
     },
     "execution_count": 66,
     "metadata": {},
     "output_type": "execute_result"
    }
   ],
   "source": [
    "# Average Rounds\n",
    "count = case4_stats.groupby(['turns'],as_index=False)['round'].count().rename(columns = {\n",
    "    'round':'games'\n",
    "})\n",
    "case4_stats['turns'].describe()"
   ]
  },
  {
   "cell_type": "code",
   "execution_count": 67,
   "id": "769c3c48",
   "metadata": {},
   "outputs": [
    {
     "data": {
      "image/png": "[encoded data removed]",
      "text/plain": [
       "<Figure size 1500x800 with 1 Axes>"
      ]
     },
     "metadata": {},
     "output_type": "display_data"
    }
   ],
   "source": [
    "fig = sns.barplot(y = count['games'], x = count['turns'])\n",
    "fig.set(xlabel =\"Number of rounds\", ylabel = \"Quantity of games\", title ='Length of games')\n",
    "plt.subplots_adjust(hspace = 0.2)"
   ]
  },
  {
   "cell_type": "code",
   "execution_count": 68,
   "id": "446fe74f",
   "metadata": {},
   "outputs": [
    {
     "data": {
      "text/plain": [
       "count    10000.00000\n",
       "mean         1.20820\n",
       "std          0.80232\n",
       "min          0.00000\n",
       "25%          1.00000\n",
       "50%          1.00000\n",
       "75%          2.00000\n",
       "max          5.00000\n",
       "Name: ladders_p1, dtype: float64"
      ]
     },
     "execution_count": 68,
     "metadata": {},
     "output_type": "execute_result"
    }
   ],
   "source": [
    "case4_stats['ladders_p1'].describe()"
   ]
  },
  {
   "cell_type": "code",
   "execution_count": 69,
   "id": "7cac52f2",
   "metadata": {},
   "outputs": [
    {
     "data": {
      "text/plain": [
       "count    10000.000000\n",
       "mean         1.143500\n",
       "std          0.775479\n",
       "min          0.000000\n",
       "25%          1.000000\n",
       "50%          1.000000\n",
       "75%          2.000000\n",
       "max          4.000000\n",
       "Name: ladders_p2, dtype: float64"
      ]
     },
     "execution_count": 69,
     "metadata": {},
     "output_type": "execute_result"
    }
   ],
   "source": [
    "case4_stats['ladders_p2'].describe()"
   ]
  },
  {
   "cell_type": "code",
   "execution_count": 70,
   "id": "ad9ad5ee",
   "metadata": {},
   "outputs": [
    {
     "data": {
      "text/plain": [
       "count    10000.000000\n",
       "mean         1.424600\n",
       "std          1.275177\n",
       "min          0.000000\n",
       "25%          0.000000\n",
       "50%          1.000000\n",
       "75%          2.000000\n",
       "max          9.000000\n",
       "Name: snakes_p1, dtype: float64"
      ]
     },
     "execution_count": 70,
     "metadata": {},
     "output_type": "execute_result"
    }
   ],
   "source": [
    "case4_stats['snakes_p1'].describe()"
   ]
  },
  {
   "cell_type": "code",
   "execution_count": 71,
   "id": "55eea97e",
   "metadata": {},
   "outputs": [
    {
     "data": {
      "text/plain": [
       "count    10000.000000\n",
       "mean         0.705400\n",
       "std          0.455886\n",
       "min          0.000000\n",
       "25%          0.000000\n",
       "50%          1.000000\n",
       "75%          1.000000\n",
       "max          1.000000\n",
       "Name: snakes_p2, dtype: float64"
      ]
     },
     "execution_count": 71,
     "metadata": {},
     "output_type": "execute_result"
    }
   ],
   "source": [
    "case4_stats['snakes_p2'].describe()"
   ]
  }
 ],
 "metadata": {
  "kernelspec": {
   "display_name": "Python 3 (ipykernel)",
   "language": "python",
   "name": "python3"
  },
  "language_info": {
   "codemirror_mode": {
    "name": "ipython",
    "version": 3
   },
   "file_extension": ".py",
   "mimetype": "text/x-python",
   "name": "python",
   "nbconvert_exporter": "python",
   "pygments_lexer": "ipython3",
   "version": "3.9.13"
  }
 },
 "nbformat": 4,
 "nbformat_minor": 5
}
